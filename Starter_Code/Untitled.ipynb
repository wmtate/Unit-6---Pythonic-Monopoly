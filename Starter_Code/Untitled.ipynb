{
 "cells": [
  {
   "cell_type": "code",
   "execution_count": null,
   "metadata": {},
   "outputs": [],
   "source": [
    "# Define Panel Visualization Functions\n",
    "def housing_units_per_year():\n",
    "    \"\"\"Housing Units Per Year.\"\"\"\n",
    "    \n",
    "    housing_units_per_year = sfo_data.groupby('year')['housing_units'].mean().hvplot.bar(xlabel=\"Year\", ylabel=\"Housing Units\",ylim=(370000,385000), title=\"Housing Units Per Year\")\n",
    "    return housing_units_per_year\n",
    "\n",
    "def average_gross_rent():\n",
    "    \"\"\"Average Gross Rent in San Francisco Per Year.\"\"\"\n",
    "   \n",
    "    average_gross_rent = sfo_data.groupby('year')['gross_rent'].mean().hvplot.bar(xlabel=\"Year\", ylabel=\"Gross Rent\", title=\"Average Gross Rent in San Francisco Per Year\")\n",
    "    return average_gross_rent\n",
    "\n",
    "\n",
    "def average_sales_price():\n",
    "    \"\"\"Average Sales Price Per Year.\"\"\"\n",
    "    \n",
    "    average_sales_price = sfo_data.groupby('year')['sale_price_sqr_foot'].mean().hvplot.bar(xlabel=\"Year\", ylabel=\"Average Sales Price\", title=\"Average Sales Price Per Year.\")\n",
    "    return average_sales_price\n",
    "\n",
    "\n",
    "def average_price_by_neighborhood():\n",
    "    \"\"\"Average Prices by Neighborhood.\"\"\"\n",
    "    sfo_hood = sfo_data.groupby(['year', 'neighborhood']).mean()\n",
    "    \n",
    "    average_price_by_neighborhood= sfo_hood.hvplot.line(x='year', y='sale_price_sqr_foot', groupby='neighborhood', title=\"Average Prices by Neighborhood\")\n",
    "    return average_price_by_neighborhood\n",
    "\n",
    "\n",
    "sfo_expensive = sfo_data.groupby(['neighborhood']).mean()\n",
    "sfo_expensive_plot = sfo_expensive.sort_values('sale_price_sqr_foot', ascending=False).head(10)\n",
    "def top_most_expensive_neighborhoods():\n",
    "    \"\"\"Top 10 Most Expensive Neighborhoods.\"\"\"   \n",
    "    top_most_expensive_neighborhoods =  sfo_expensive_plot.head(10).plot(kind='bar', y='sale_price_sqr_foot', title=\"Top 10 Most Expensive Neighborhoods\")\n",
    "    return top_most_expensive_neighborhoods\n",
    "\n",
    "def parallel_coordinates():\n",
    "    \"\"\"Parallel Coordinates Plot.\"\"\"\n",
    "    parallel_coordinates = px.parallel_coordinates(sfo_expensive_plot, color='sale_price_sqr_foot', title=\"Parallel Coordinates Plot.\")\n",
    "    return parallel_coordinates\n",
    "\n",
    "\n",
    "def parallel_categories():\n",
    "    \"\"\"Parallel Categories Plot.\"\"\" \n",
    "    parallel_categories=px.parallel_categories(sfo_expensive_plot, dimensions=[\"sale_price_sqr_foot\", \"housing_units\", \"gross_rent\"], color=\"sale_price_sqr_foot\", color_continous_scale=px.sequential.Inferno, labels={\"sale_price_sqr_foot\":\"Sales Price per sqft\", \"housing_units\": \"Housing Unit\", \"gross_rent\": \"Gross Rent\"},)\n",
    "\n",
    "\n",
    "df_neighborhood_locations_mean = df_neighborhood_locations.groupby(['Neighborhood']).mean()\n",
    "join_df = pd.concat([sfo_expensive, df_neighborhood_locations_mean], axis=\"columns\", join=\"inner\")\n",
    "def neighborhood_map():\n",
    "    \"\"\"Neighborhood Map\"\"\"\n",
    "    neighborhood_map = px,scatter_mapbox(join_df, lat=\"Lat\", lon=\"Lon\", size=\"gross_rent\", color=\"gross_rent\")\n",
    "    return neighborhood_map\n",
    "    "
   ]
  }
 ],
 "metadata": {
  "kernelspec": {
   "display_name": "Python 3",
   "language": "python",
   "name": "python3"
  },
  "language_info": {
   "codemirror_mode": {
    "name": "ipython",
    "version": 3
   },
   "file_extension": ".py",
   "mimetype": "text/x-python",
   "name": "python",
   "nbconvert_exporter": "python",
   "pygments_lexer": "ipython3",
   "version": "3.7.7"
  }
 },
 "nbformat": 4,
 "nbformat_minor": 4
}
