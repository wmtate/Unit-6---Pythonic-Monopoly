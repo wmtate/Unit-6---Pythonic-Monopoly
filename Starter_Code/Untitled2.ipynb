{
 "cells": [
  {
   "cell_type": "code",
   "execution_count": null,
   "metadata": {},
   "outputs": [],
   "source": []
  },
  {
   "cell_type": "code",
   "execution_count": 7,
   "metadata": {},
   "outputs": [
    {
     "ename": "IndentationError",
     "evalue": "unexpected indent (<ipython-input-7-9faac2831102>, line 20)",
     "output_type": "error",
     "traceback": [
      "\u001b[1;36m  File \u001b[1;32m\"<ipython-input-7-9faac2831102>\"\u001b[1;36m, line \u001b[1;32m20\u001b[0m\n\u001b[1;33m    avg_price_sqr_foot = avg_price_neighborhood.hvplot.line(x=\"year\", y=\"sale_price_sqr_foot\", groupby=\"neighborhood\").opts(xlabel=\"year\", ylabel=\"Average Sale Price\", title=\"Average Prices by Neighborhood\")\u001b[0m\n\u001b[1;37m    ^\u001b[0m\n\u001b[1;31mIndentationError\u001b[0m\u001b[1;31m:\u001b[0m unexpected indent\n"
     ]
    }
   ],
   "source": [
    "map_plot = pn.Column(\n",
    "    neighborhood_map()\n",
    ")\n",
    "\n",
    "\n",
    "line_plot = pn.Column(\n",
    "    housing_units_per_year(), \n",
    "    avg_gross_rent(), \n",
    "    avg_sale_price()\n",
    ")\n",
    "\n",
    "\n",
    "neighborhood_plot = pn.Column(\n",
    "    avg_price_sqr_foot(), \n",
    "    top_expensive_neighborhood()\n",
    ")\n",
    "\n",
    "\n",
    "parallel_plot = pn.Column(\n",
    "    parallel_coordinates(), \n",
    "    parallel_categories()\n",
    ")"
   ]
  }
 ],
 "metadata": {
  "kernelspec": {
   "display_name": "Python 3",
   "language": "python",
   "name": "python3"
  },
  "language_info": {
   "codemirror_mode": {
    "name": "ipython",
    "version": 3
   },
   "file_extension": ".py",
   "mimetype": "text/x-python",
   "name": "python",
   "nbconvert_exporter": "python",
   "pygments_lexer": "ipython3",
   "version": "3.7.7"
  }
 },
 "nbformat": 4,
 "nbformat_minor": 4
}
